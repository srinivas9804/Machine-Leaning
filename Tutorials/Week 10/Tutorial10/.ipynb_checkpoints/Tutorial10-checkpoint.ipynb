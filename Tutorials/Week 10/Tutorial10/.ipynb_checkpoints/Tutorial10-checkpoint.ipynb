{
 "cells": [
  {
   "cell_type": "markdown",
   "metadata": {},
   "source": [
    "**Name:** \\_\\_\\_\\_\\_\n",
    "\n",
    "**EID:** \\_\\_\\_\\_\\_"
   ]
  },
  {
   "cell_type": "markdown",
   "metadata": {},
   "source": [
    "# CS4487 - Tutorial 10\n",
    "## Using Deep Features\n",
    "\n",
    "In this tutorial you will train a classifier to classify images with different types of cakes using deep features.\n",
    "\n",
    "First we need to initialize Python.  Run the below cell."
   ]
  },
  {
   "cell_type": "code",
   "execution_count": null,
   "metadata": {},
   "outputs": [],
   "source": [
    "%matplotlib inline\n",
    "import IPython.core.display         \n",
    "# setup output image format (Chrome works best)\n",
    "IPython.core.display.set_matplotlib_formats(\"svg\")\n",
    "import matplotlib.pyplot as plt\n",
    "import matplotlib\n",
    "from numpy import *\n",
    "from sklearn import *\n",
    "import os\n",
    "import zipfile\n",
    "import fnmatch"
   ]
  },
  {
   "cell_type": "markdown",
   "metadata": {},
   "source": [
    "Second, initialize Keras and Tensorflow"
   ]
  },
  {
   "cell_type": "code",
   "execution_count": null,
   "metadata": {},
   "outputs": [],
   "source": [
    "# use TensorFlow backend\n",
    "%env KERAS_BACKEND=tensorflow     \n",
    "from keras.models import Sequential, Model\n",
    "from keras.layers import Dense, Activation, Dropout, Conv2D, Flatten, \\\n",
    "                Input, GlobalAveragePooling2D\n",
    "from keras.preprocessing import image\n",
    "\n",
    "import keras\n",
    "import tensorflow\n",
    "import logging\n",
    "logging.basicConfig()\n",
    "import struct\n",
    "\n",
    "# use channels first representation for images\n",
    "from keras import backend as K\n",
    "K.set_image_data_format('channels_first')\n",
    "\n",
    "from keras.callbacks import TensorBoard"
   ]
  },
  {
   "cell_type": "markdown",
   "metadata": {},
   "source": [
    "## 1. Loading Data and Pre-processing\n",
    "Next we need to load the images.  Download `cakes.zip`, and put it in the same direcotry as this ipynb file.  **Do not unzip the file.** Then run the following cell to load the images."
   ]
  },
  {
   "cell_type": "code",
   "execution_count": null,
   "metadata": {
    "scrolled": true
   },
   "outputs": [],
   "source": [
    "imgdata = []\n",
    "classes = []\n",
    "\n",
    "# load the zip file\n",
    "filename = 'cakes.zip'\n",
    "zfile = zipfile.ZipFile(filename, 'r')\n",
    "\n",
    "for name in zfile.namelist():\n",
    "    # check file name matches\n",
    "    if fnmatch.fnmatch(name, \"cakes/*/*.jpg\"):\n",
    "        \n",
    "        # filename is : cakes/class/file.jpg\n",
    "        (fdir1, fname)  = os.path.split(name)  # get file name\n",
    "        (fdir2, fclass) = os.path.split(fdir1) # get class \n",
    "\n",
    "        # open file in memory, and parse as an image\n",
    "        myfile = zfile.open(name)\n",
    "        #img = matplotlib.image.imread(myfile)\n",
    "      #  img = skimage.io.imread(myfile)\n",
    "        img = image.load_img(myfile, target_size=(224, 224))\n",
    "        \n",
    "        myfile.close()\n",
    "\n",
    "        imgdata.append(img)\n",
    "        classes.append(fclass)\n",
    "        \n",
    "zfile.close()\n",
    "print(len(imgdata))\n",
    "print(img.size)"
   ]
  },
  {
   "cell_type": "markdown",
   "metadata": {},
   "source": [
    "Each image is a 224x224. There are 8 classes of differerent cakes.  Run the below code to show examples of each class."
   ]
  },
  {
   "cell_type": "code",
   "execution_count": null,
   "metadata": {},
   "outputs": [],
   "source": [
    "plt.figure(figsize=(9,5))\n",
    "for i in range(8):\n",
    "    plt.subplot(2,4,i+1)\n",
    "    ind = i*100\n",
    "    plt.imshow(imgdata[ind])    \n",
    "    plt.title(classes[ind])\n",
    "    plt.axis('off')\n",
    "plt.show()"
   ]
  },
  {
   "cell_type": "markdown",
   "metadata": {},
   "source": [
    "Next, we convert the class label strings into class numbers."
   ]
  },
  {
   "cell_type": "code",
   "execution_count": null,
   "metadata": {},
   "outputs": [],
   "source": [
    "# convert class strings into integers\n",
    "print(\"class labels (strings):\", unique(classes))\n",
    "le = preprocessing.LabelEncoder()\n",
    "Y = le.fit_transform(classes)\n",
    "print(\"Converted labels:\")\n",
    "print(Y)"
   ]
  },
  {
   "cell_type": "markdown",
   "metadata": {},
   "source": [
    "## 2. Extract Deep features\n",
    "Now preprocess the images in imdata and put them into a 4D tensor for ResNet.  The tensor is `Xim`."
   ]
  },
  {
   "cell_type": "code",
   "execution_count": null,
   "metadata": {},
   "outputs": [],
   "source": [
    "### INSERT YOUR CODE HERE ###"
   ]
  },
  {
   "cell_type": "code",
   "execution_count": null,
   "metadata": {},
   "outputs": [],
   "source": []
  },
  {
   "cell_type": "markdown",
   "metadata": {},
   "source": [
    "Extract features from Resnet50, call it `Xf`."
   ]
  },
  {
   "cell_type": "code",
   "execution_count": null,
   "metadata": {},
   "outputs": [],
   "source": [
    "### INSERT YOUR CODE HERE ###"
   ]
  },
  {
   "cell_type": "code",
   "execution_count": null,
   "metadata": {},
   "outputs": [],
   "source": []
  },
  {
   "cell_type": "markdown",
   "metadata": {},
   "source": [
    "## 3. Train a classifier\n",
    "Split the data into training and testing for the classifier."
   ]
  },
  {
   "cell_type": "code",
   "execution_count": null,
   "metadata": {},
   "outputs": [],
   "source": [
    "# randomly split data into train and test set\n",
    "( trainXf, testXf,       # features \n",
    "  trainY, testY,         # class labels\n",
    "  trainimgdata, testimgdata,     # raw images\n",
    ") = \\\n",
    "  model_selection.train_test_split(Xf, Y, imgdata,\n",
    "  train_size=0.8, test_size=0.2, random_state=4487)\n",
    "\n",
    "print(trainXf.shape)\n",
    "print(testXf.shape)"
   ]
  },
  {
   "cell_type": "markdown",
   "metadata": {},
   "source": [
    "Now train a few traditional classifier (e.g, SVM, logistic regression, random forest, etc.) and compute the accuracy."
   ]
  },
  {
   "cell_type": "code",
   "execution_count": null,
   "metadata": {},
   "outputs": [],
   "source": [
    "### INSERT YOUR CODE HERE ###"
   ]
  },
  {
   "cell_type": "code",
   "execution_count": null,
   "metadata": {},
   "outputs": [],
   "source": []
  },
  {
   "cell_type": "code",
   "execution_count": null,
   "metadata": {},
   "outputs": [],
   "source": []
  },
  {
   "cell_type": "code",
   "execution_count": null,
   "metadata": {},
   "outputs": [],
   "source": []
  },
  {
   "cell_type": "markdown",
   "metadata": {},
   "source": [
    "# 4. Analyze results\n",
    "\n",
    "Run the below code to visualize the predictions on the test set.  `mypred` are the class predictions from your classifier."
   ]
  },
  {
   "cell_type": "code",
   "execution_count": null,
   "metadata": {
    "scrolled": false
   },
   "outputs": [],
   "source": [
    "# get the class labels\n",
    "predYcl = le.inverse_transform(mypred)\n",
    "testYcl = le.inverse_transform(testY)\n",
    "\n",
    "plt.figure(figsize=(10,50))\n",
    "px = 8\n",
    "py = ceil(len(predYcl)/5)\n",
    "for i in range(len(predYcl)):\n",
    "    plt.subplot(py,px,i+1)\n",
    "    mytitle = predYcl[i] + \"\\n(\" + testYcl[i] + \")\" \n",
    "    plt.imshow(testimgdata[i], interpolation='nearest')\n",
    "    plt.title(mytitle, size=8)\n",
    "    plt.gca().set_axis_off()\n",
    "\n",
    "    "
   ]
  },
  {
   "cell_type": "markdown",
   "metadata": {},
   "source": [
    "Now look at the confusion matrix"
   ]
  },
  {
   "cell_type": "code",
   "execution_count": null,
   "metadata": {},
   "outputs": [],
   "source": [
    "CM = metrics.confusion_matrix(testY, mypred)\n",
    "\n",
    "plt.imshow(CM, interpolation='nearest')\n",
    "plt.colorbar()\n",
    "\n",
    "tick_marks = arange(len(le.classes_))\n",
    "plt.xticks(tick_marks, le.classes_, rotation=90)\n",
    "plt.yticks(tick_marks, le.classes_)\n",
    "plt.xlabel('prediction')\n",
    "plt.ylabel('true')\n",
    "for i in range(len(le.classes_)):\n",
    "    for j in range(len(le.classes_)):\n",
    "        plt.text(j,i,\"{}\".format(CM[i,j]), horizontalalignment='center')"
   ]
  },
  {
   "cell_type": "markdown",
   "metadata": {},
   "source": [
    "_How does the classifier make errors?_\n",
    "- **INSERT YOUR ANSWER HERE**"
   ]
  },
  {
   "cell_type": "markdown",
   "metadata": {},
   "source": [
    "## 5. More experiments\n",
    "\n",
    "- If you have time, you can try using other networks (e.g., InceptionNet) to extract the features.\n",
    "  - remember to change the pre-processing step too.\n",
    "- Or you can fine-tune the existing network to see if you can get better performance."
   ]
  },
  {
   "cell_type": "code",
   "execution_count": null,
   "metadata": {},
   "outputs": [],
   "source": []
  },
  {
   "cell_type": "code",
   "execution_count": null,
   "metadata": {},
   "outputs": [],
   "source": []
  }
 ],
 "metadata": {
  "anaconda-cloud": {},
  "kernelspec": {
   "display_name": "Python 3",
   "language": "python",
   "name": "python3"
  },
  "language_info": {
   "codemirror_mode": {
    "name": "ipython",
    "version": 3
   },
   "file_extension": ".py",
   "mimetype": "text/x-python",
   "name": "python",
   "nbconvert_exporter": "python",
   "pygments_lexer": "ipython3",
   "version": "3.6.5"
  }
 },
 "nbformat": 4,
 "nbformat_minor": 1
}
